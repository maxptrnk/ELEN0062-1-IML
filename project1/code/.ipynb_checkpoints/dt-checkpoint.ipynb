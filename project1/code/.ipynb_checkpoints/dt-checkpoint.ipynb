{
 "cells": [
  {
   "cell_type": "code",
   "execution_count": 1,
   "id": "dc74bc72",
   "metadata": {},
   "outputs": [],
   "source": [
    "\"\"\"\n",
    "University of Liege\n",
    "ELEN0062 - Introduction to machine learning\n",
    "Project 1 - Classification algorithms\n",
    "\"\"\"\n",
    "#! /usr/bin/env python\n",
    "# -*- coding: utf-8 -*-\n",
    "\n",
    "import numpy as np\n",
    "from matplotlib import pyplot as plt\n",
    "\n",
    "from data import make_dataset2\n",
    "from plot import plot_boundary\n",
    "from sklearn.tree import DecisionTreeClassifier\n",
    "from sklearn.model_selection import train_test_split"
   ]
  },
  {
   "cell_type": "code",
   "execution_count": 2,
   "id": "91ddc4c5",
   "metadata": {},
   "outputs": [],
   "source": [
    "dataset = make_dataset2\n",
    "number_of_samples = 1500\n",
    "training_sets = 1200\n",
    "max_depth = [1, 2, 4, 8, None]\n",
    "number_generations = 5"
   ]
  },
  {
   "cell_type": "code",
   "execution_count": 3,
   "id": "8a464f5f",
   "metadata": {},
   "outputs": [],
   "source": [
    "# 1.1 Plots to see how decision boudary is affected by complexity\n",
    "X, y = dataset(number_of_samples, random_state = 0)\n",
    "X_train, X_test, y_train, y_test = train_test_split(X, y,train_size = training_sets,shuffle = False)\n",
    "\n",
    "for j in range(len(max_depth)):\n",
    "    # Decision Tree classifier\n",
    "    dtc = DecisionTreeClassifier(max_depth = max_depth[j])\n",
    "    dtc.fit(X_train, y_train)\n",
    "    # printing the Plot\n",
    "    plot_boundary( \"plot\\make_dataset2\" + \"_max_depth\" + str(max_depth[j]),dtc, X_test[0:training_sets],y_test[0:training_sets],title = \"max_depth : \" + str(max_depth[j]))"
   ]
  },
  {
   "cell_type": "code",
   "execution_count": 4,
   "id": "66b2b34b",
   "metadata": {
    "scrolled": true
   },
   "outputs": [
    {
     "name": "stdout",
     "output_type": "stream",
     "text": [
      "max_depth mean std\n",
      "1 0.67533 0.03856\n",
      "2 0.81600 0.02551\n",
      "4 0.83400 0.00998\n",
      "8 0.80533 0.01845\n",
      "None 0.77933 0.01020\n"
     ]
    }
   ],
   "source": [
    "# 1.2 \n",
    "print(\"max_depth\", \"mean\", \"std\")\n",
    "for i in range(len(max_depth)):\n",
    "    accr = np.empty(number_generations)\n",
    "    for k in range(number_generations):\n",
    "        # Data set\n",
    "        X, y = dataset(number_of_samples, random_state = k)\n",
    "        X_train, X_test, y_train, y_test = train_test_split(X, y,train_size = training_sets,shuffle = False)\n",
    "\n",
    "        dtc = DecisionTreeClassifier(max_depth = max_depth[i])\n",
    "        dtc.fit(X_train, y_train)\n",
    "        accr[k] = dtc.score(X_test, y_test)\n",
    "    print(max_depth[i],\"{:.5f}\".format(np.mean(accr)), \"{:.5f}\".format(np.std(accr)))"
   ]
  },
  {
   "cell_type": "code",
   "execution_count": null,
   "id": "5c2bff17",
   "metadata": {},
   "outputs": [],
   "source": []
  },
  {
   "cell_type": "code",
   "execution_count": null,
   "id": "411469dd",
   "metadata": {},
   "outputs": [],
   "source": []
  }
 ],
 "metadata": {
  "kernelspec": {
   "display_name": "Python 3 (ipykernel)",
   "language": "python",
   "name": "python3"
  },
  "language_info": {
   "codemirror_mode": {
    "name": "ipython",
    "version": 3
   },
   "file_extension": ".py",
   "mimetype": "text/x-python",
   "name": "python",
   "nbconvert_exporter": "python",
   "pygments_lexer": "ipython3",
   "version": "3.9.12"
  },
  "vscode": {
   "interpreter": {
    "hash": "50a35f6769ee7e8fe6d95a04e5cf4405cac57478c62d4bd255bdd1887ba1c0fd"
   }
  }
 },
 "nbformat": 4,
 "nbformat_minor": 5
}
