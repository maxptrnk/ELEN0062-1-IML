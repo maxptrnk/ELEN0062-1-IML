{
 "cells": [
  {
   "cell_type": "code",
   "execution_count": 1,
   "id": "dc74bc72",
   "metadata": {},
   "outputs": [],
   "source": [
    "\"\"\"\n",
    "University of Liege\n",
    "ELEN0062 - Introduction to machine learning\n",
    "Project 1 - Classification algorithms\n",
    "\"\"\"\n",
    "#! /usr/bin/env python\n",
    "# -*- coding: utf-8 -*-\n",
    "\n",
    "import numpy as np\n",
    "from matplotlib import pyplot as plt\n",
    "\n",
    "from data import make_dataset1, make_dataset2\n",
    "from plot import plot_boundary\n",
    "from sklearn.tree import DecisionTreeClassifier\n",
    "from sklearn.model_selection import train_test_split\n",
    "from sklearn.model_selection import GridSearchCV"
   ]
  },
  {
   "cell_type": "code",
   "execution_count": 2,
   "id": "91ddc4c5",
   "metadata": {},
   "outputs": [],
   "source": [
    "dataset = make_dataset2\n",
    "datasets = [make_dataset1, make_dataset2]\n",
    "number_of_samples = 1500\n",
    "training_sets = 1200\n",
    "max_depth = [1, 2, 4, 8, None]\n",
    "number_generations = 5"
   ]
  },
  {
   "cell_type": "code",
   "execution_count": 3,
   "id": "8a464f5f",
   "metadata": {},
   "outputs": [],
   "source": [
    "# 1.1 Plots to see how decision boudary is affected by complexity\n",
    "X, y = dataset(number_of_samples, random_state = 0)\n",
    "X_train, X_test, y_train, y_test = train_test_split(X, y,train_size = training_sets,shuffle = False)\n",
    "\n",
    "for j in range(len(max_depth)):\n",
    "    # Decision Tree classifier\n",
    "    dtc = DecisionTreeClassifier(max_depth = max_depth[j])\n",
    "    dtc.fit(X_train, y_train)\n",
    "    # printing the Plot\n",
    "    plot_boundary( \"plot\\make_dataset2\" + \"_max_depth\" + str(max_depth[j]),dtc, X_test[0:training_sets],y_test[0:training_sets],title = \"max_depth : \" + str(max_depth[j]))"
   ]
  },
  {
   "cell_type": "code",
   "execution_count": 4,
   "id": "66b2b34b",
   "metadata": {
    "scrolled": true
   },
   "outputs": [
    {
     "name": "stdout",
     "output_type": "stream",
     "text": [
      "max_depth mean std\n",
      "1 0.67533 0.03856\n",
      "2 0.81600 0.02551\n",
      "4 0.83400 0.00998\n",
      "8 0.80600 0.02719\n",
      "None 0.77267 0.01104\n"
     ]
    }
   ],
   "source": [
    "# 1.2 \n",
    "print(\"make_data\", \"max_depth\", \"mean\", \"std\")\n",
    "for i in range(len(max_depth)):\n",
    "    accr = np.empty(number_generations)\n",
    "    for k in range(number_generations):\n",
    "        # Data set\n",
    "        X, y = dataset(number_of_samples, random_state = k)\n",
    "        X_train, X_test, y_train, y_test = train_test_split(X, y,train_size = training_sets,shuffle = False)\n",
    "\n",
    "        dtc = DecisionTreeClassifier(max_depth = max_depth[i])\n",
    "        dtc.fit(X_train, y_train)\n",
    "        accr[k] = dtc.score(X_test, y_test)\n",
    "    print(max_depth[i],\"{:.5f}\".format(np.mean(accr)), \"{:.5f}\".format(np.std(accr)))"
   ]
  },
  {
   "cell_type": "code",
   "execution_count": 9,
   "id": "4c1a6bc1",
   "metadata": {},
   "outputs": [
    {
     "name": "stdout",
     "output_type": "stream",
     "text": [
      "dataset max_depth mean std\n",
      "1 1 0.69000 0.00000\n",
      "1 2 0.76333 0.00000\n",
      "1 4 0.85000 0.00000\n",
      "1 8 0.89333 0.00596\n",
      "1 None 0.88000 0.00471\n",
      "2 1 0.73667 0.00000\n",
      "2 2 0.83333 0.00000\n",
      "2 4 0.84000 0.00000\n",
      "2 8 0.83000 0.00298\n",
      "2 None 0.78933 0.00772\n"
     ]
    }
   ],
   "source": [
    "#tuning the hyperparameter of max_depth:\n",
    "print(\"dataset\",\"max_depth\", \"mean\", \"std\")\n",
    "for i in range(len(datasets)):\n",
    "    for j in range(len(max_depth)):\n",
    "        accr = np.empty(number_generations)\n",
    "        for k in range(number_generations):\n",
    "            # Data set\n",
    "            X, y = datasets[i](number_of_samples, random_state = k)\n",
    "            X_train, X_test, y_train, y_test = train_test_split(X, y,train_size = training_sets,shuffle = False)\n",
    "            dtc = DecisionTreeClassifier(max_depth = max_depth[j])\n",
    "            dtc.fit(X_train, y_train)\n",
    "            accr[k] = dtc.score(X_test, y_test)\n",
    "        print(str(i+1),max_depth[j],\"{:.5f}\".format(np.mean(accr)), \"{:.5f}\".format(np.std(accr)))"
   ]
  },
  {
   "cell_type": "code",
   "execution_count": 32,
   "id": "5c2bff17",
   "metadata": {},
   "outputs": [
    {
     "name": "stdout",
     "output_type": "stream",
     "text": [
      "k= 0 n=  0\n",
      "Best parameter: max_depth = 8\n",
      "Best parameter accuracy: 0.9\n",
      "k= 1 n=  0\n",
      "Best parameter: max_depth = 8\n",
      "Best parameter accuracy: 0.8658333333333333\n",
      "k= 2 n=  0\n",
      "Best parameter: max_depth = 4\n",
      "Best parameter accuracy: 0.8708333333333333\n",
      "k= 3 n=  0\n",
      "Best parameter: max_depth = 8\n",
      "Best parameter accuracy: 0.8674999999999999\n",
      "k= 4 n=  0\n",
      "Best parameter: max_depth = 8\n",
      "Best parameter accuracy: 0.8841666666666667\n",
      "k= 0 n=  1\n",
      "Best parameter: max_depth = 4\n",
      "Best parameter accuracy: 0.8300000000000001\n",
      "k= 1 n=  1\n",
      "Best parameter: max_depth = 4\n",
      "Best parameter accuracy: 0.8283333333333334\n",
      "k= 2 n=  1\n",
      "Best parameter: max_depth = 8\n",
      "Best parameter accuracy: 0.8441666666666666\n",
      "k= 3 n=  1\n",
      "Best parameter: max_depth = 4\n",
      "Best parameter accuracy: 0.8241666666666667\n",
      "k= 4 n=  1\n",
      "Best parameter: max_depth = 2\n",
      "Best parameter accuracy: 0.8166666666666667\n"
     ]
    }
   ],
   "source": [
    "for i in range(len(datasets)):\n",
    "    for k in range(number_generations):\n",
    "        X, y = datasets[i](number_of_samples, random_state = k)\n",
    "        X_train, X_test, y_train, y_test = train_test_split(X, y,train_size = training_sets,shuffle = False)\n",
    "        grid_params = { 'max_depth' : [1, 2, 4, 8, None]}\n",
    "        gs = GridSearchCV(DecisionTreeClassifier(), grid_params, cv=10)\n",
    "        g_res = gs.fit(X_train, y_train)\n",
    "        print(\"k=\", k,\"n= \",i)\n",
    "        print(\"Best parameter: max_depth =\", g_res.best_params_[\"max_depth\"])\n",
    "        print(\"Best parameter accuracy:\", g_res.best_score_)"
   ]
  },
  {
   "cell_type": "code",
   "execution_count": 33,
   "id": "86adba55",
   "metadata": {},
   "outputs": [
    {
     "name": "stdout",
     "output_type": "stream",
     "text": [
      "__________________________________________________________\n",
      "[0.8866666666666667, 0.8766666666666667, 0.8833333333333333, 0.8466666666666667, 0.8433333333333334]\n",
      "[0.84, 0.8333333333333334, 0.8466666666666667, 0.8333333333333334, 0.8166666666666667]\n",
      "__________________________________________________________\n",
      "dataset average accuracy average accuracy standard deviation\n",
      "1 0.8673 0.0185\n",
      "2 0.8340 0.0185\n"
     ]
    }
   ],
   "source": [
    "from sklearn.metrics import accuracy_score\n",
    "score=[[],[]]\n",
    "max_depth=[8,4]\n",
    "for i in range(len(datasets)):\n",
    "    \n",
    "    for k in range(number_generations):\n",
    "        X, y = datasets[i](number_of_samples, random_state = k)\n",
    "        X_train, X_test, y_train, y_test = train_test_split(X, y,train_size = training_sets,shuffle = False)\n",
    "        dtc = DecisionTreeClassifier(max_depth = max_depth[i])\n",
    "        dtc.fit(X_train,y_train)\n",
    "        y_pred = dtc.predict(X_test)\n",
    "        accuracy= accuracy_score(y_pred, y_test)\n",
    "        score[i].append(accuracy)\n",
    "print(\"__________________________________________________________\")\n",
    "print(score[0])\n",
    "print(score[1])\n",
    "print(\"__________________________________________________________\")\n",
    "print(\"dataset\", \"average accuracy\", \"average accuracy standard deviation\")\n",
    "print(\"1\",\"{:.4f}\".format(np.mean(score[0])),\"{:.4f}\".format(np.std(score[0])))\n",
    "print(\"2\",\"{:.4f}\".format(np.mean(score[1])),\"{:.4f}\".format(np.std(score[0])))"
   ]
  },
  {
   "cell_type": "code",
   "execution_count": null,
   "id": "265b87f3",
   "metadata": {},
   "outputs": [],
   "source": []
  },
  {
   "cell_type": "code",
   "execution_count": null,
   "id": "a2ca5735",
   "metadata": {},
   "outputs": [],
   "source": []
  }
 ],
 "metadata": {
  "kernelspec": {
   "display_name": "Python 3 (ipykernel)",
   "language": "python",
   "name": "python3"
  },
  "language_info": {
   "codemirror_mode": {
    "name": "ipython",
    "version": 3
   },
   "file_extension": ".py",
   "mimetype": "text/x-python",
   "name": "python",
   "nbconvert_exporter": "python",
   "pygments_lexer": "ipython3",
   "version": "3.9.12"
  },
  "vscode": {
   "interpreter": {
    "hash": "50a35f6769ee7e8fe6d95a04e5cf4405cac57478c62d4bd255bdd1887ba1c0fd"
   }
  }
 },
 "nbformat": 4,
 "nbformat_minor": 5
}
